{
 "cells": [
  {
   "cell_type": "code",
   "execution_count": 39,
   "metadata": {
    "id": "ydyzP3aDq94r"
   },
   "outputs": [],
   "source": [
    "import pandas as pd\n",
    "dataset = pd.read_csv(\"training.1600000.processed.noemoticon.csv\",\n",
    "                      encoding=\"ISO-8859-1\",\n",
    "                      names=['sentiment','ids','date','flag','user','text'])  \n"
   ]
  },
  {
   "cell_type": "code",
   "execution_count": 40,
   "metadata": {
    "id": "N_wWixIPxpnW"
   },
   "outputs": [],
   "source": [
    "X = dataset['text']\n",
    "y = dataset['sentiment']"
   ]
  },
  {
   "cell_type": "code",
   "execution_count": 41,
   "metadata": {
    "colab": {
     "base_uri": "https://localhost:8080/",
     "height": 221
    },
    "id": "YMgxxtC2ypkQ",
    "outputId": "e168e6b5-f1f1-4952-be7f-3351d460dd4e"
   },
   "outputs": [
    {
     "data": {
      "text/plain": [
       "0          @switchfoot http://twitpic.com/2y1zl - Awww, t...\n",
       "1          is upset that he can't update his Facebook by ...\n",
       "2          @Kenichan I dived many times for the ball. Man...\n",
       "3            my whole body feels itchy and like its on fire \n",
       "4          @nationwideclass no, it's not behaving at all....\n",
       "                                 ...                        \n",
       "1599995    Just woke up. Having no school is the best fee...\n",
       "1599996    TheWDB.com - Very cool to hear old Walt interv...\n",
       "1599997    Are you ready for your MoJo Makeover? Ask me f...\n",
       "1599998    Happy 38th Birthday to my boo of alll time!!! ...\n",
       "1599999    happy #charitytuesday @theNSPCC @SparksCharity...\n",
       "Name: text, Length: 1600000, dtype: object"
      ]
     },
     "execution_count": 41,
     "metadata": {},
     "output_type": "execute_result"
    }
   ],
   "source": [
    "X"
   ]
  },
  {
   "cell_type": "code",
   "execution_count": 42,
   "metadata": {
    "id": "m_ZSBPa5yqkO"
   },
   "outputs": [],
   "source": [
    "count_sentiments = pd.value_counts(y,sort = True)"
   ]
  },
  {
   "cell_type": "code",
   "execution_count": 43,
   "metadata": {
    "colab": {
     "base_uri": "https://localhost:8080/",
     "height": 68
    },
    "id": "tSI7EeZ0zY63",
    "outputId": "c991e0f1-2b13-4c25-df6c-38f3449b781a"
   },
   "outputs": [
    {
     "data": {
      "text/plain": [
       "4    800000\n",
       "0    800000\n",
       "Name: sentiment, dtype: int64"
      ]
     },
     "execution_count": 43,
     "metadata": {},
     "output_type": "execute_result"
    }
   ],
   "source": [
    "count_sentiments"
   ]
  },
  {
   "cell_type": "code",
   "execution_count": 44,
   "metadata": {
    "colab": {
     "base_uri": "https://localhost:8080/",
     "height": 102
    },
    "id": "Ln00RoUl1GLA",
    "outputId": "f1a3d8db-e2c7-49bc-e1c3-3c794b721de2"
   },
   "outputs": [
    {
     "name": "stderr",
     "output_type": "stream",
     "text": [
      "[nltk_data] Downloading package stopwords to\n",
      "[nltk_data]     C:\\Users\\USER\\AppData\\Roaming\\nltk_data...\n",
      "[nltk_data]   Package stopwords is already up-to-date!\n",
      "[nltk_data] Downloading package wordnet to\n",
      "[nltk_data]     C:\\Users\\USER\\AppData\\Roaming\\nltk_data...\n",
      "[nltk_data]   Package wordnet is already up-to-date!\n"
     ]
    },
    {
     "data": {
      "text/plain": [
       "True"
      ]
     },
     "execution_count": 44,
     "metadata": {},
     "output_type": "execute_result"
    }
   ],
   "source": [
    "import nltk\n",
    "nltk.download('stopwords')\n",
    "nltk.download('wordnet')"
   ]
  },
  {
   "cell_type": "code",
   "execution_count": 45,
   "metadata": {
    "id": "zzPvIV6t2t71"
   },
   "outputs": [],
   "source": [
    "sample_data = dataset.sample(n=500000)"
   ]
  },
  {
   "cell_type": "code",
   "execution_count": 46,
   "metadata": {
    "colab": {
     "base_uri": "https://localhost:8080/",
     "height": 419
    },
    "id": "5mw-gpt_oVE-",
    "outputId": "26c7c9f6-5e50-404c-fd66-e4ae6dfed417"
   },
   "outputs": [
    {
     "data": {
      "text/html": [
       "<div>\n",
       "<style scoped>\n",
       "    .dataframe tbody tr th:only-of-type {\n",
       "        vertical-align: middle;\n",
       "    }\n",
       "\n",
       "    .dataframe tbody tr th {\n",
       "        vertical-align: top;\n",
       "    }\n",
       "\n",
       "    .dataframe thead th {\n",
       "        text-align: right;\n",
       "    }\n",
       "</style>\n",
       "<table border=\"1\" class=\"dataframe\">\n",
       "  <thead>\n",
       "    <tr style=\"text-align: right;\">\n",
       "      <th></th>\n",
       "      <th>sentiment</th>\n",
       "      <th>ids</th>\n",
       "      <th>date</th>\n",
       "      <th>flag</th>\n",
       "      <th>user</th>\n",
       "      <th>text</th>\n",
       "    </tr>\n",
       "  </thead>\n",
       "  <tbody>\n",
       "    <tr>\n",
       "      <th>612302</th>\n",
       "      <td>0</td>\n",
       "      <td>2224913958</td>\n",
       "      <td>Thu Jun 18 10:05:09 PDT 2009</td>\n",
       "      <td>NO_QUERY</td>\n",
       "      <td>BikeJoeBike</td>\n",
       "      <td>Rain = No bike rides today</td>\n",
       "    </tr>\n",
       "    <tr>\n",
       "      <th>266795</th>\n",
       "      <td>0</td>\n",
       "      <td>1989063451</td>\n",
       "      <td>Mon Jun 01 00:13:33 PDT 2009</td>\n",
       "      <td>NO_QUERY</td>\n",
       "      <td>deepakpanigrahy</td>\n",
       "      <td>@imanpreet I did not like it at all. I was ver...</td>\n",
       "    </tr>\n",
       "    <tr>\n",
       "      <th>360901</th>\n",
       "      <td>0</td>\n",
       "      <td>2046601181</td>\n",
       "      <td>Fri Jun 05 12:25:12 PDT 2009</td>\n",
       "      <td>NO_QUERY</td>\n",
       "      <td>mykimmykim</td>\n",
       "      <td>@nicolle77 Not fair.  I want to keep my iPhone...</td>\n",
       "    </tr>\n",
       "    <tr>\n",
       "      <th>166977</th>\n",
       "      <td>0</td>\n",
       "      <td>1961502646</td>\n",
       "      <td>Fri May 29 09:36:07 PDT 2009</td>\n",
       "      <td>NO_QUERY</td>\n",
       "      <td>lrnn</td>\n",
       "      <td>Had the hottest and stressiest day at work  f ...</td>\n",
       "    </tr>\n",
       "    <tr>\n",
       "      <th>258753</th>\n",
       "      <td>0</td>\n",
       "      <td>1985263246</td>\n",
       "      <td>Sun May 31 16:45:45 PDT 2009</td>\n",
       "      <td>NO_QUERY</td>\n",
       "      <td>jolenemooney</td>\n",
       "      <td>I really hope i dont have to move interstate j...</td>\n",
       "    </tr>\n",
       "    <tr>\n",
       "      <th>...</th>\n",
       "      <td>...</td>\n",
       "      <td>...</td>\n",
       "      <td>...</td>\n",
       "      <td>...</td>\n",
       "      <td>...</td>\n",
       "      <td>...</td>\n",
       "    </tr>\n",
       "    <tr>\n",
       "      <th>566966</th>\n",
       "      <td>0</td>\n",
       "      <td>2207023455</td>\n",
       "      <td>Wed Jun 17 07:22:52 PDT 2009</td>\n",
       "      <td>NO_QUERY</td>\n",
       "      <td>alansauce</td>\n",
       "      <td>Going through my pictures.  Fun times.  http:/...</td>\n",
       "    </tr>\n",
       "    <tr>\n",
       "      <th>100695</th>\n",
       "      <td>0</td>\n",
       "      <td>1794093709</td>\n",
       "      <td>Thu May 14 04:56:25 PDT 2009</td>\n",
       "      <td>NO_QUERY</td>\n",
       "      <td>celineros</td>\n",
       "      <td>Did you forget everything we ever had? Did you...</td>\n",
       "    </tr>\n",
       "    <tr>\n",
       "      <th>439642</th>\n",
       "      <td>0</td>\n",
       "      <td>2066494757</td>\n",
       "      <td>Sun Jun 07 10:37:39 PDT 2009</td>\n",
       "      <td>NO_QUERY</td>\n",
       "      <td>Thomas514</td>\n",
       "      <td>Man it's a beautiful sunny day today. I am goi...</td>\n",
       "    </tr>\n",
       "    <tr>\n",
       "      <th>407411</th>\n",
       "      <td>0</td>\n",
       "      <td>2059167780</td>\n",
       "      <td>Sat Jun 06 16:23:03 PDT 2009</td>\n",
       "      <td>NO_QUERY</td>\n",
       "      <td>muhlizuh</td>\n",
       "      <td>Over a week without seeing &amp;quot;Cutie&amp;quot; i...</td>\n",
       "    </tr>\n",
       "    <tr>\n",
       "      <th>644319</th>\n",
       "      <td>0</td>\n",
       "      <td>2235996839</td>\n",
       "      <td>Fri Jun 19 02:35:50 PDT 2009</td>\n",
       "      <td>NO_QUERY</td>\n",
       "      <td>P_e_n_n_Y</td>\n",
       "      <td>I have a headache on a lovely Friday.Awesome</td>\n",
       "    </tr>\n",
       "  </tbody>\n",
       "</table>\n",
       "<p>250006 rows × 6 columns</p>\n",
       "</div>"
      ],
      "text/plain": [
       "        sentiment         ids                          date      flag  \\\n",
       "612302          0  2224913958  Thu Jun 18 10:05:09 PDT 2009  NO_QUERY   \n",
       "266795          0  1989063451  Mon Jun 01 00:13:33 PDT 2009  NO_QUERY   \n",
       "360901          0  2046601181  Fri Jun 05 12:25:12 PDT 2009  NO_QUERY   \n",
       "166977          0  1961502646  Fri May 29 09:36:07 PDT 2009  NO_QUERY   \n",
       "258753          0  1985263246  Sun May 31 16:45:45 PDT 2009  NO_QUERY   \n",
       "...           ...         ...                           ...       ...   \n",
       "566966          0  2207023455  Wed Jun 17 07:22:52 PDT 2009  NO_QUERY   \n",
       "100695          0  1794093709  Thu May 14 04:56:25 PDT 2009  NO_QUERY   \n",
       "439642          0  2066494757  Sun Jun 07 10:37:39 PDT 2009  NO_QUERY   \n",
       "407411          0  2059167780  Sat Jun 06 16:23:03 PDT 2009  NO_QUERY   \n",
       "644319          0  2235996839  Fri Jun 19 02:35:50 PDT 2009  NO_QUERY   \n",
       "\n",
       "                   user                                               text  \n",
       "612302      BikeJoeBike                        Rain = No bike rides today   \n",
       "266795  deepakpanigrahy  @imanpreet I did not like it at all. I was ver...  \n",
       "360901       mykimmykim  @nicolle77 Not fair.  I want to keep my iPhone...  \n",
       "166977             lrnn  Had the hottest and stressiest day at work  f ...  \n",
       "258753     jolenemooney  I really hope i dont have to move interstate j...  \n",
       "...                 ...                                                ...  \n",
       "566966        alansauce  Going through my pictures.  Fun times.  http:/...  \n",
       "100695        celineros  Did you forget everything we ever had? Did you...  \n",
       "439642        Thomas514  Man it's a beautiful sunny day today. I am goi...  \n",
       "407411         muhlizuh  Over a week without seeing &quot;Cutie&quot; i...  \n",
       "644319        P_e_n_n_Y      I have a headache on a lovely Friday.Awesome   \n",
       "\n",
       "[250006 rows x 6 columns]"
      ]
     },
     "execution_count": 46,
     "metadata": {},
     "output_type": "execute_result"
    }
   ],
   "source": [
    "sample_data[sample_data['sentiment']==0]"
   ]
  },
  {
   "cell_type": "code",
   "execution_count": 47,
   "metadata": {
    "id": "zItLUXxK2zGQ"
   },
   "outputs": [],
   "source": [
    "X_sample = sample_data['text']\n",
    "y_sample = sample_data['sentiment']"
   ]
  },
  {
   "cell_type": "code",
   "execution_count": 48,
   "metadata": {
    "colab": {
     "base_uri": "https://localhost:8080/",
     "height": 68
    },
    "id": "DBJT4YM03Mam",
    "outputId": "39305930-f8b0-499c-f669-035cba3ba5ea"
   },
   "outputs": [
    {
     "data": {
      "text/plain": [
       "0    250006\n",
       "4    249994\n",
       "Name: sentiment, dtype: int64"
      ]
     },
     "execution_count": 48,
     "metadata": {},
     "output_type": "execute_result"
    }
   ],
   "source": [
    "count_sentiments_sample = pd.value_counts(y_sample,sort = True)\n",
    "count_sentiments_sample"
   ]
  },
  {
   "cell_type": "code",
   "execution_count": 49,
   "metadata": {
    "colab": {
     "base_uri": "https://localhost:8080/",
     "height": 221
    },
    "id": "bUYCvjM_3iPJ",
    "outputId": "392f9f7c-84a8-42b1-8d6e-8f350ac615d4"
   },
   "outputs": [
    {
     "data": {
      "text/plain": [
       "1328348    Financial success is not rocket science.  For ...\n",
       "612302                           Rain = No bike rides today \n",
       "1187257    Perhaps the only movie where Kate Winslet isnt...\n",
       "266795     @imanpreet I did not like it at all. I was ver...\n",
       "1489832    heeeeey guys  just lying in bed. school tomorr...\n",
       "                                 ...                        \n",
       "1034547                   @mrzhollywood  made ya laugh homie\n",
       "439642     Man it's a beautiful sunny day today. I am goi...\n",
       "1145951    @KW2P Didn't know you had a Flickr account. Ju...\n",
       "407411     Over a week without seeing &quot;Cutie&quot; i...\n",
       "644319         I have a headache on a lovely Friday.Awesome \n",
       "Name: text, Length: 500000, dtype: object"
      ]
     },
     "execution_count": 49,
     "metadata": {},
     "output_type": "execute_result"
    }
   ],
   "source": [
    "X_sample"
   ]
  },
  {
   "cell_type": "markdown",
   "metadata": {
    "id": "OXaSmVxJ3bei"
   },
   "source": [
    "Preprocess Data"
   ]
  },
  {
   "cell_type": "code",
   "execution_count": 50,
   "metadata": {
    "id": "KFMntYq03UrF"
   },
   "outputs": [],
   "source": [
    "# Convert to Lower Case\n",
    "X_sample = X_sample.str.lower()\n",
    "# Replace Number\n",
    "X_sample = X_sample.str.replace(\"(\\d+)[^ ]*\",' ')\n",
    "# Replace URL\n",
    "X_sample = X_sample.str.replace(\"(http://)[^ ]*|(https://)[^ ]*|(www\\.)[^ ]*\",' ')\n",
    "# Replace Tag\n",
    "X_sample = X_sample.str.replace(\"@[^ ]*\",' ')\n",
    "# Replace '# to nothing\n",
    "X_sample = X_sample.str.replace(\"'\",'')\n",
    "# Remove Punctuation\n",
    "X_sample = X_sample.str.replace('[!\"#$%&()*+,-./:;<=>?@[\\]^_`{|}~]',' ')\n",
    "# Replace 3+ Consecutive Letter with only 2\n",
    "X_sample = X_sample.str.replace(\"(.)\\\\1\\\\1+\",'\\\\1\\\\1')\n",
    "# Remove Independent words with length 1\n",
    "X_sample = X_sample.str.replace(\"(^| ).( |$)\",' ')"
   ]
  },
  {
   "cell_type": "code",
   "execution_count": 51,
   "metadata": {
    "id": "5rP1DhnZ3qNU"
   },
   "outputs": [],
   "source": [
    "from nltk.tokenize import casual_tokenize\n",
    "from nltk.corpus import stopwords\n",
    "from nltk.stem import SnowballStemmer\n",
    "from nltk.stem.wordnet import WordNetLemmatizer\n",
    "from textblob import TextBlob\n",
    "stop_words = stopwords.words('english')"
   ]
  },
  {
   "cell_type": "code",
   "execution_count": 52,
   "metadata": {
    "id": "Hz0ORWRvYeog"
   },
   "outputs": [],
   "source": [
    "X_clean = []\n",
    "for sentence in X_sample:\n",
    "  # sentence = str(TextBlob(sentence).correct())\n",
    "    tokenized = casual_tokenize(sentence)\n",
    "    new_tokenized = \"\"\n",
    "    for word in tokenized:\n",
    "        #Lemmatizing\n",
    "        lemmatizer = WordNetLemmatizer()\n",
    "        word = lemmatizer.lemmatize(word)\n",
    "        #Stemming\n",
    "        stemmer = SnowballStemmer('english')\n",
    "        word = stemmer.stem(word) \n",
    "        #Remove Stopword\n",
    "        word = word if word not in stop_words else \"a\"\n",
    "        new_tokenized += (word + ' ')\n",
    "    X_clean.append(new_tokenized)"
   ]
  },
  {
   "cell_type": "code",
   "execution_count": 53,
   "metadata": {
    "id": "SJr7mPcUvYox"
   },
   "outputs": [],
   "source": [
    "from sklearn.model_selection import train_test_split\n",
    "X_train,X_test,y_train,y_test = train_test_split(X_clean,y_sample,test_size=0.3,random_state=42)"
   ]
  },
  {
   "cell_type": "code",
   "execution_count": 54,
   "metadata": {
    "id": "fAdWsMlVvbjA"
   },
   "outputs": [],
   "source": [
    "from sklearn.feature_extraction.text import TfidfVectorizer\n",
    "vect = TfidfVectorizer(stop_words = \"english\", ngram_range=(1,2))\n",
    "vect.fit(X_clean)\n",
    "X_train = vect.transform(X_train)\n",
    "X_test = vect.transform(X_test)"
   ]
  },
  {
   "cell_type": "code",
   "execution_count": 55,
   "metadata": {
    "id": "_uoLu-Fpvewj"
   },
   "outputs": [],
   "source": [
    "from sklearn.linear_model import LogisticRegression\n",
    "from sklearn.svm import SVC\n",
    "from sklearn.naive_bayes import MultinomialNB,BernoulliNB,BaseDiscreteNB,GaussianNB\n",
    "from sklearn.neural_network import MLPClassifier\n",
    "from sklearn.ensemble import GradientBoostingClassifier, RandomForestClassifier\n",
    "import numpy as np\n",
    "\n",
    "model =  MultinomialNB()\n",
    "model.fit(X_train,y_train)\n",
    "y_predict = model.predict(X_test)"
   ]
  },
  {
   "cell_type": "code",
   "execution_count": 56,
   "metadata": {
    "colab": {
     "base_uri": "https://localhost:8080/",
     "height": 364
    },
    "id": "EH1M5s2LvgdC",
    "outputId": "cef58a21-7412-47be-ecf6-b70f3b0b9fe0"
   },
   "outputs": [
    {
     "name": "stdout",
     "output_type": "stream",
     "text": [
      "Precision: 0.7774869472488817\n",
      "Recall: 0.7471187884272444\n",
      "Accuracy: 0.7662066666666667\n",
      "Confusion Matrix:\n"
     ]
    },
    {
     "data": {
      "text/plain": [
       "Text(33.0, 0.5, 'Predict')"
      ]
     },
     "execution_count": 56,
     "metadata": {},
     "output_type": "execute_result"
    },
    {
     "data": {
      "image/png": "[encoded data removed]",
      "text/plain": [
       "<Figure size 432x288 with 2 Axes>"
      ]
     },
     "metadata": {
      "needs_background": "light"
     },
     "output_type": "display_data"
    }
   ],
   "source": [
    "from sklearn.metrics import confusion_matrix,recall_score,precision_score,accuracy_score\n",
    "from sklearn.preprocessing import LabelEncoder\n",
    "x = LabelEncoder().fit_transform(y_test.values)\n",
    "y = LabelEncoder().fit_transform(y_predict)\n",
    "precision = precision_score(x,y)\n",
    "recall = recall_score(x,y)\n",
    "accuracy = accuracy_score(x,y)\n",
    "print(\"Precision: {}\".format(precision))\n",
    "print(\"Recall: {}\".format(recall))\n",
    "print(\"Accuracy: {}\".format(accuracy))\n",
    "print('Confusion Matrix:')\n",
    "import seaborn as sns\n",
    "import matplotlib.pyplot as plt\n",
    "conf = confusion_matrix(y_test,y_predict)\n",
    "sns.heatmap(conf,annot=True)\n",
    "plt.xlabel('Actual')\n",
    "plt.ylabel('Predict')"
   ]
  },
  {
   "cell_type": "code",
   "execution_count": 57,
   "metadata": {
    "colab": {
     "base_uri": "https://localhost:8080/",
     "height": 170
    },
    "id": "Gh_TqexLxFZN",
    "outputId": "62c467fc-cb6e-4660-b43b-d0b61d9b5b1d"
   },
   "outputs": [
    {
     "name": "stdout",
     "output_type": "stream",
     "text": [
      "              precision    recall  f1-score   support\n",
      "\n",
      "           0       0.76      0.79      0.77     74858\n",
      "           4       0.78      0.75      0.76     75142\n",
      "\n",
      "    accuracy                           0.77    150000\n",
      "   macro avg       0.77      0.77      0.77    150000\n",
      "weighted avg       0.77      0.77      0.77    150000\n",
      "\n"
     ]
    }
   ],
   "source": [
    "from sklearn.metrics import classification_report\n",
    "\n",
    "print(classification_report(y_test, y_predict))"
   ]
  }
 ],
 "metadata": {
  "colab": {
   "collapsed_sections": [],
   "name": "NLP_project.ipynb",
   "provenance": []
  },
  "kernelspec": {
   "display_name": "Python 3",
   "language": "python",
   "name": "python3"
  },
  "language_info": {
   "codemirror_mode": {
    "name": "ipython",
    "version": 3
   },
   "file_extension": ".py",
   "mimetype": "text/x-python",
   "name": "python",
   "nbconvert_exporter": "python",
   "pygments_lexer": "ipython3",
   "version": "3.7.9"
  }
 },
 "nbformat": 4,
 "nbformat_minor": 1
}
